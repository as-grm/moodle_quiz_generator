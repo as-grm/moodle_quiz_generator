{
 "cells": [
  {
   "cell_type": "markdown",
   "id": "7039e23b-40a6-4b97-bc51-2e863b80c8be",
   "metadata": {},
   "source": [
    "# Quiz Generator\n",
    "\n",
    "Generator **Moodle** *Embedded Answer (Clotz)* kviza.\n",
    "\n",
    "Celoten opis izgradnje takega kviza je na <a href=\"https://docs.moodle.org/en/Embedded_Answers_(Cloze)_question_type\">Moodle Embedded Answer (Clotz)</a>.\n",
    "\n",
    "V našem primeru gradimo samo numeričen tip (**NUMERICAL**), vendar ima možnost vrsto različnih tipov. Za igradnjo enostavnih kvizov se uporablja tudi vmesnik [Hot Potatoes](https://docs.moodle.org/311/en/Hot_Potatoes)."
   ]
  },
  {
   "cell_type": "code",
   "execution_count": null,
   "id": "af0d8482-c22d-43fa-b996-e4e0d8e5a514",
   "metadata": {},
   "outputs": [],
   "source": [
    "# Nalaganje potrebnih paketoc\n",
    "import sys\n",
    "\n",
    "# sources path\n",
    "sys.path.append('../src')\n",
    "\n",
    "import random as rnd\n",
    "import quizgenerator as qg"
   ]
  },
  {
   "cell_type": "markdown",
   "id": "ab2649f4-7826-49e5-bed7-96c0c4e7c8dc",
   "metadata": {},
   "source": [
    "## Utils functions\n",
    "\n",
    "Pomožne funkcije za gradnj naključnih števil"
   ]
  },
  {
   "cell_type": "code",
   "execution_count": null,
   "id": "7c347a88-4368-4f26-90b7-9b7253c5ae2c",
   "metadata": {},
   "outputs": [],
   "source": [
    "# Generate random number\n",
    "# y = x + rand(dx)\n",
    "# rand(dx) is in the interval [-dx,dx]\n",
    "def randValue(x,dx,N):\n",
    "    \n",
    "    return x + (2*rnd.randint(0,N) - N)/N * dx"
   ]
  },
  {
   "cell_type": "code",
   "execution_count": null,
   "id": "8a6edbf0-cdc5-4af1-82de-46812adb0d5c",
   "metadata": {},
   "outputs": [],
   "source": [
    "# Returns question random values for inputs and for results\n",
    "def getQuestionRandomValues(p_inp, nq):\n",
    "    \n",
    "    res = []\n",
    "    for i in range(nq):\n",
    "        y = modelFunction(p_inp)\n",
    "        res.append(y)\n",
    "        \n",
    "    return res"
   ]
  },
  {
   "cell_type": "markdown",
   "id": "3b7e2c76-29e2-4acc-8572-d29839f5f0c0",
   "metadata": {},
   "source": [
    "## Input functions\n",
    "\n",
    "Funkcije, s katerimi zgradimo potrebne vhodne parametre.\n",
    "\n",
    "- *modelFunction()*: tukaj poteka izračun rezultatov na podlagi vhodnih parametrov. Iz vhodnih parametrov se zgenerirajo vhodna naključna števil, ki jih nato uporabimo za izračun rezultatov,\n",
    "\n",
    "- *getInputParameters()*: postavitev zgradbo vhodnih parametrov, ki so določeni s predpisanim formatom **[$x$, $\\Delta x$, u, name, format]**\n",
    "    + $x$: srednja vrednost parametra,\n",
    "    + $\\Delta x$: absolutni oplet, kjer je to naključno število v intervalu $[-\\Delta x, \\Delta x]$ ($y = x \\pm \\mathrm{rnd}(-1,1) \\cdot \\Delta x$),\n",
    "    + u: enota parametra,\n",
    "    + name: ime parametra,\n",
    "    + format: format načina izpisa\n",
    "<br>\n",
    "<br>\n",
    "\n",
    "- *getOutputParameters()*: postavitev zgradbe rezultatov, ki so določeni s predpisanim formatom **[p, e, u, format, name, comment]**\n",
    "    + p: vrednost odgovora v točkah ali utež (celo število),\n",
    "    + e: **absolutna napaka**, ki jo dopuščamo pri rezultatu študenta,\n",
    "    + u: enota rezultata,\n",
    "    + format: format načina izpisa,\n",
    "    + name: ime parametra,\n",
    "    + comment: možen komentar ob rezultatu"
   ]
  },
  {
   "cell_type": "code",
   "execution_count": null,
   "id": "683a2ad6-b8c5-4546-b167-bd24cdf16b2a",
   "metadata": {},
   "outputs": [],
   "source": [
    "# Model function based on input definitions\n",
    "# - generate random inputs\n",
    "# - generate results based on random inputs\n",
    "def modelFunction(p_inp):\n",
    "    N = 10000\n",
    "    x = []\n",
    "    \n",
    "    # generate random numbers for inputs x\n",
    "    for p in p_inp:\n",
    "        v = randValue(p[0],p[1],N)\n",
    "        x.append(v)\n",
    "    \n",
    "    # *** random inputs ***\n",
    "    D0 = x[0]  # inital displacement\n",
    "    Tf0 = x[1] # initial draft forward\n",
    "    Ta0 = x[2] # initial draft afterward\n",
    "    TPC = x[3] # TPC \n",
    "    m = x[4]   # discharged cargo mass (negative sign)\n",
    "    rand_inp = [D0,Tf0,Ta0,TPC,m]\n",
    "    \n",
    "    # *** results ***\n",
    "    Ts0 = (Tf0 + Ta0)/2 # initial mean draft\n",
    "    dTs =  -m / TPC     # draft change\n",
    "    D1 = D0 - m         # new displacement\n",
    "    Ts1 = Ts0 + dTs/100 # new mean draft\n",
    "    rand_res = [Ts0,dTs,D1,Ts1]\n",
    "    \n",
    "    return [rand_inp, rand_res]"
   ]
  },
  {
   "cell_type": "code",
   "execution_count": null,
   "id": "01de67db-b494-4b39-ae95-225ef7125a86",
   "metadata": {},
   "outputs": [],
   "source": [
    "# generates input parameters\n",
    "def getInputParameters():\n",
    "    # *** define inputs ***\n",
    "    #\n",
    "    # [x, dx, u, name, format]:\n",
    "    #  x: mean,\n",
    "    #  dx: random interval\n",
    "    #  u: unit\n",
    "    #  name: input variable name (possible use LaTeX form, i.e. \\Delta)\n",
    "    #  format: specify output format, based on formatted strings\n",
    "    #\n",
    "    # random value is calculated with function randValue(x,dx)\n",
    "    \n",
    "    D = [60000, 5000, 't',r'\\Delta','.1f']          # displacement\n",
    "    Tf = [10.5, 0.5, 'm',r'T_\\mathrm{f}','.2f']     # draft forward\n",
    "    Ta = [9.5, 0.5, 'm',r'T_\\mathrm{a}','.2f']      # draft aft       \n",
    "    TPC = [20.0, 2.0, 't/cm',r'\\mathrm{TPC}','.2f'] # tone per centimeter - TPC\n",
    "    m = [1000.0, 200.0, 't',r'\\mathrm{m}','.2f']    # mass\n",
    "    \n",
    "    return [D, Tf, Ta, TPC, m]"
   ]
  },
  {
   "cell_type": "code",
   "execution_count": null,
   "id": "3e0d4dc1-b61a-4d70-a3fb-3cd2d2987ee7",
   "metadata": {},
   "outputs": [],
   "source": [
    "# generate output parameters\n",
    "def getOutputParameters():\n",
    "    # *** define outputs properties ***\n",
    "    #\n",
    "    # [p, e, u, format, name, comment]:\n",
    "    #  p: number of points for correct answer (must be integer)\n",
    "    #  e: abslute error\n",
    "    #  u: unit\n",
    "    #  format: specify output format, based on formatted strings\n",
    "    #  name: output variable name (possible use LaTeX form, i.e. \\Delta)\n",
    "    #  comment: comments related to result (description, points, ...)\n",
    "    #\n",
    "    # This are results of the Quiz!\n",
    "    \n",
    "    Ts0 = [1,0.02,'m','.2f',r'T_\\mathrm{s}','začetni srednji ugrez; 1 točka']\n",
    "    dTs = [2,2,'cm','.2f', r'\\Delta T','sprememba ugreza; 2 točki']\n",
    "    D1 = [1,5,'t','.1f',r'\\Delta','deplasman na koncu; 1 točka']     \n",
    "    Ts1 = [1,0.02,'m','.2f',r'T_\\mathrm{s}','srednji ugrez na koncu; 2 točki']\n",
    "    \n",
    "    return [Ts0,dTs,D1,Ts1]"
   ]
  },
  {
   "cell_type": "markdown",
   "id": "1a9a04e0-7456-428d-a747-cdb91b951479",
   "metadata": {},
   "source": [
    "## Steering program part\n",
    "\n",
    "Nastavitve v katero kategorijo se naj vprašanja zapišejo. Pod-kategorija bo tako vsebovala ista vprašanja, vendar z različnimi vhodnimi parametri. Tako za isto nalogo dobimo različne rezultate, kar onemogoča prepisovanje, razen če študent ne preplonka celotnega postopka reševanja, torej že nekaj zna!\n",
    "\n",
    "- *category_path*: kategorija kam vprašanje spada, kjer kategorije gnezdimo z znakom *slash*-\"/\",\n",
    "- *question_ID*: to je ključ po katerem shranim vprašanja v svojo pad-kategorijo\n",
    "- *question_form_path*: pot do datoteke, ki vsebuje formo vprašanja\n",
    "\n",
    "**Forma vprašanja** je sestavljena iz teksta, kjer mesto vhodnih parametrov označimo z **{inp:#}** in mesto rezultatov **{out:#}**. Lojtra je tuaj zaporedna številka, s katero vemo kateri parameter je to. zaporedna številka je vezana na mesto, ki ga ima parameter v defininiciji, kot je narejeno v **Input functions**!\n",
    "\n",
    "Celoten kviz, z vsemi naključnimi vprašanji se nato shrani v datoteko, ki ji določite ime pod spremenljivko **quiz_file_name**!\n",
    "\n",
    "**Število vprašanj** se nastavi s spodnjim parametrom **Nq**!"
   ]
  },
  {
   "cell_type": "code",
   "execution_count": null,
   "id": "d7aa242b-8445-430e-bdce-80927be534ad",
   "metadata": {},
   "outputs": [],
   "source": [
    "# input parameters\n",
    "p_inp = getInputParameters()\n",
    "\n",
    "# output parameters\n",
    "p_out = getOutputParameters()\n",
    "\n",
    "# questions random values ([inputs, results]) \n",
    "Nq = 10 # number of question random realizations\n",
    "p_rand = getQuestionRandomValues(p_inp, Nq) # random results\n",
    "\n",
    "\n",
    "# *** quiz parameters ***\n",
    "category_path = 'test/2022'\n",
    "question_ID = 'q-01'\n",
    "question_form_path = '../examples/quiz_form_01.txt'\n",
    "\n",
    "# *** initial Quiz ***\n",
    "quiz = qg.QuizGenerator(category_path, question_ID, question_form_path)\n",
    "# generate randomized Quiz\n",
    "quiz.generateQuiz(p_inp, p_out, p_rand)"
   ]
  }
 ],
 "metadata": {
  "kernelspec": {
   "display_name": "Python 3 (ipykernel)",
   "language": "python",
   "name": "python3"
  },
  "language_info": {
   "codemirror_mode": {
    "name": "ipython",
    "version": 3
   },
   "file_extension": ".py",
   "mimetype": "text/x-python",
   "name": "python",
   "nbconvert_exporter": "python",
   "pygments_lexer": "ipython3",
   "version": "3.11.4"
  }
 },
 "nbformat": 4,
 "nbformat_minor": 5
}
